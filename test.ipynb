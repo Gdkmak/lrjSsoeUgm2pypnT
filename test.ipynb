{
  "nbformat": 4,
  "nbformat_minor": 0,
  "metadata": {
    "colab": {
      "name": "test",
      "provenance": [],
      "authorship_tag": "ABX9TyO0So0fsAzpy4RqL8HLbd+S",
      "include_colab_link": true
    },
    "kernelspec": {
      "name": "python3",
      "display_name": "Python 3"
    }
  },
  "cells": [
    {
      "cell_type": "markdown",
      "metadata": {
        "id": "view-in-github",
        "colab_type": "text"
      },
      "source": [
        "<a href=\"https://colab.research.google.com/github/Gdkmak/lrjSsoeUgm2pypnT/blob/main/test.ipynb\" target=\"_parent\"><img src=\"https://colab.research.google.com/assets/colab-badge.svg\" alt=\"Open In Colab\"/></a>"
      ]
    },
    {
      "cell_type": "code",
      "metadata": {
        "id": "x4PEbOHHndqg",
        "outputId": "f38a8bf1-1986-457a-bd27-cfdd693330bf",
        "colab": {
          "base_uri": "https://localhost:8080/"
        }
      },
      "source": [
        "import pandas as pd\n",
        "import numpy as np\n",
        "import seaborn as sns\n",
        "import matplotlib.pyplot as plt\n",
        "import pydot\n",
        "\n",
        "from imblearn.under_sampling import RandomUnderSampler\n",
        "from collections import Counter\n",
        "from imblearn.over_sampling import RandomOverSampler \n",
        "from sklearn.ensemble import RandomForestClassifier\n",
        "from sklearn.metrics import classification_report, confusion_matrix, accuracy_score\n",
        "from sklearn.tree import export_graphviz\n",
        "from sklearn import model_selection\n",
        "from sklearn.metrics import roc_auc_score, roc_curve, auc"
      ],
      "execution_count": 1,
      "outputs": [
        {
          "output_type": "stream",
          "text": [
            "/usr/local/lib/python3.6/dist-packages/sklearn/externals/six.py:31: FutureWarning: The module is deprecated in version 0.21 and will be removed in version 0.23 since we've dropped support for Python 2.7. Please rely on the official version of six (https://pypi.org/project/six/).\n",
            "  \"(https://pypi.org/project/six/).\", FutureWarning)\n",
            "/usr/local/lib/python3.6/dist-packages/sklearn/utils/deprecation.py:144: FutureWarning: The sklearn.neighbors.base module is  deprecated in version 0.22 and will be removed in version 0.24. The corresponding classes / functions should instead be imported from sklearn.neighbors. Anything that cannot be imported from sklearn.neighbors is now part of the private API.\n",
            "  warnings.warn(message, FutureWarning)\n"
          ],
          "name": "stderr"
        }
      ]
    },
    {
      "cell_type": "code",
      "metadata": {
        "id": "42MYGrqDn8pd",
        "outputId": "c629c457-ba96-49aa-827b-b11b86967ea0",
        "colab": {
          "base_uri": "https://localhost:8080/",
          "height": 206
        }
      },
      "source": [
        "row_df = pd.read_csv('term-deposit-marketing-2020.csv')\n",
        "row_df.head()"
      ],
      "execution_count": 2,
      "outputs": [
        {
          "output_type": "execute_result",
          "data": {
            "text/html": [
              "<div>\n",
              "<style scoped>\n",
              "    .dataframe tbody tr th:only-of-type {\n",
              "        vertical-align: middle;\n",
              "    }\n",
              "\n",
              "    .dataframe tbody tr th {\n",
              "        vertical-align: top;\n",
              "    }\n",
              "\n",
              "    .dataframe thead th {\n",
              "        text-align: right;\n",
              "    }\n",
              "</style>\n",
              "<table border=\"1\" class=\"dataframe\">\n",
              "  <thead>\n",
              "    <tr style=\"text-align: right;\">\n",
              "      <th></th>\n",
              "      <th>age</th>\n",
              "      <th>job</th>\n",
              "      <th>marital</th>\n",
              "      <th>education</th>\n",
              "      <th>default</th>\n",
              "      <th>balance</th>\n",
              "      <th>housing</th>\n",
              "      <th>loan</th>\n",
              "      <th>contact</th>\n",
              "      <th>day</th>\n",
              "      <th>month</th>\n",
              "      <th>duration</th>\n",
              "      <th>campaign</th>\n",
              "      <th>y</th>\n",
              "    </tr>\n",
              "  </thead>\n",
              "  <tbody>\n",
              "    <tr>\n",
              "      <th>0</th>\n",
              "      <td>58</td>\n",
              "      <td>management</td>\n",
              "      <td>married</td>\n",
              "      <td>tertiary</td>\n",
              "      <td>no</td>\n",
              "      <td>2143</td>\n",
              "      <td>yes</td>\n",
              "      <td>no</td>\n",
              "      <td>unknown</td>\n",
              "      <td>5</td>\n",
              "      <td>may</td>\n",
              "      <td>261</td>\n",
              "      <td>1</td>\n",
              "      <td>no</td>\n",
              "    </tr>\n",
              "    <tr>\n",
              "      <th>1</th>\n",
              "      <td>44</td>\n",
              "      <td>technician</td>\n",
              "      <td>single</td>\n",
              "      <td>secondary</td>\n",
              "      <td>no</td>\n",
              "      <td>29</td>\n",
              "      <td>yes</td>\n",
              "      <td>no</td>\n",
              "      <td>unknown</td>\n",
              "      <td>5</td>\n",
              "      <td>may</td>\n",
              "      <td>151</td>\n",
              "      <td>1</td>\n",
              "      <td>no</td>\n",
              "    </tr>\n",
              "    <tr>\n",
              "      <th>2</th>\n",
              "      <td>33</td>\n",
              "      <td>entrepreneur</td>\n",
              "      <td>married</td>\n",
              "      <td>secondary</td>\n",
              "      <td>no</td>\n",
              "      <td>2</td>\n",
              "      <td>yes</td>\n",
              "      <td>yes</td>\n",
              "      <td>unknown</td>\n",
              "      <td>5</td>\n",
              "      <td>may</td>\n",
              "      <td>76</td>\n",
              "      <td>1</td>\n",
              "      <td>no</td>\n",
              "    </tr>\n",
              "    <tr>\n",
              "      <th>3</th>\n",
              "      <td>47</td>\n",
              "      <td>blue-collar</td>\n",
              "      <td>married</td>\n",
              "      <td>unknown</td>\n",
              "      <td>no</td>\n",
              "      <td>1506</td>\n",
              "      <td>yes</td>\n",
              "      <td>no</td>\n",
              "      <td>unknown</td>\n",
              "      <td>5</td>\n",
              "      <td>may</td>\n",
              "      <td>92</td>\n",
              "      <td>1</td>\n",
              "      <td>no</td>\n",
              "    </tr>\n",
              "    <tr>\n",
              "      <th>4</th>\n",
              "      <td>33</td>\n",
              "      <td>unknown</td>\n",
              "      <td>single</td>\n",
              "      <td>unknown</td>\n",
              "      <td>no</td>\n",
              "      <td>1</td>\n",
              "      <td>no</td>\n",
              "      <td>no</td>\n",
              "      <td>unknown</td>\n",
              "      <td>5</td>\n",
              "      <td>may</td>\n",
              "      <td>198</td>\n",
              "      <td>1</td>\n",
              "      <td>no</td>\n",
              "    </tr>\n",
              "  </tbody>\n",
              "</table>\n",
              "</div>"
            ],
            "text/plain": [
              "   age           job  marital  education  ... month  duration campaign   y\n",
              "0   58    management  married   tertiary  ...   may       261        1  no\n",
              "1   44    technician   single  secondary  ...   may       151        1  no\n",
              "2   33  entrepreneur  married  secondary  ...   may        76        1  no\n",
              "3   47   blue-collar  married    unknown  ...   may        92        1  no\n",
              "4   33       unknown   single    unknown  ...   may       198        1  no\n",
              "\n",
              "[5 rows x 14 columns]"
            ]
          },
          "metadata": {
            "tags": []
          },
          "execution_count": 2
        }
      ]
    },
    {
      "cell_type": "code",
      "metadata": {
        "id": "IRmYinTZoDZz",
        "outputId": "77054031-0b3b-4eb6-93c7-b543b311e541",
        "colab": {
          "base_uri": "https://localhost:8080/"
        }
      },
      "source": [
        "row_df.info()"
      ],
      "execution_count": 3,
      "outputs": [
        {
          "output_type": "stream",
          "text": [
            "<class 'pandas.core.frame.DataFrame'>\n",
            "RangeIndex: 40000 entries, 0 to 39999\n",
            "Data columns (total 14 columns):\n",
            " #   Column     Non-Null Count  Dtype \n",
            "---  ------     --------------  ----- \n",
            " 0   age        40000 non-null  int64 \n",
            " 1   job        40000 non-null  object\n",
            " 2   marital    40000 non-null  object\n",
            " 3   education  40000 non-null  object\n",
            " 4   default    40000 non-null  object\n",
            " 5   balance    40000 non-null  int64 \n",
            " 6   housing    40000 non-null  object\n",
            " 7   loan       40000 non-null  object\n",
            " 8   contact    40000 non-null  object\n",
            " 9   day        40000 non-null  int64 \n",
            " 10  month      40000 non-null  object\n",
            " 11  duration   40000 non-null  int64 \n",
            " 12  campaign   40000 non-null  int64 \n",
            " 13  y          40000 non-null  object\n",
            "dtypes: int64(5), object(9)\n",
            "memory usage: 4.3+ MB\n"
          ],
          "name": "stdout"
        }
      ]
    },
    {
      "cell_type": "code",
      "metadata": {
        "id": "aUJ7zCrlgxDX",
        "outputId": "f5c4ce81-9f3e-48fa-b95a-08cd64ced3c6",
        "colab": {
          "base_uri": "https://localhost:8080/",
          "height": 300
        }
      },
      "source": [
        "row_df.describe()"
      ],
      "execution_count": 4,
      "outputs": [
        {
          "output_type": "execute_result",
          "data": {
            "text/html": [
              "<div>\n",
              "<style scoped>\n",
              "    .dataframe tbody tr th:only-of-type {\n",
              "        vertical-align: middle;\n",
              "    }\n",
              "\n",
              "    .dataframe tbody tr th {\n",
              "        vertical-align: top;\n",
              "    }\n",
              "\n",
              "    .dataframe thead th {\n",
              "        text-align: right;\n",
              "    }\n",
              "</style>\n",
              "<table border=\"1\" class=\"dataframe\">\n",
              "  <thead>\n",
              "    <tr style=\"text-align: right;\">\n",
              "      <th></th>\n",
              "      <th>age</th>\n",
              "      <th>balance</th>\n",
              "      <th>day</th>\n",
              "      <th>duration</th>\n",
              "      <th>campaign</th>\n",
              "    </tr>\n",
              "  </thead>\n",
              "  <tbody>\n",
              "    <tr>\n",
              "      <th>count</th>\n",
              "      <td>40000.000000</td>\n",
              "      <td>40000.000000</td>\n",
              "      <td>40000.000000</td>\n",
              "      <td>40000.000000</td>\n",
              "      <td>40000.000000</td>\n",
              "    </tr>\n",
              "    <tr>\n",
              "      <th>mean</th>\n",
              "      <td>40.544600</td>\n",
              "      <td>1274.277550</td>\n",
              "      <td>16.017225</td>\n",
              "      <td>254.824300</td>\n",
              "      <td>2.882175</td>\n",
              "    </tr>\n",
              "    <tr>\n",
              "      <th>std</th>\n",
              "      <td>9.641776</td>\n",
              "      <td>2903.769716</td>\n",
              "      <td>8.278127</td>\n",
              "      <td>259.366498</td>\n",
              "      <td>3.239051</td>\n",
              "    </tr>\n",
              "    <tr>\n",
              "      <th>min</th>\n",
              "      <td>19.000000</td>\n",
              "      <td>-8019.000000</td>\n",
              "      <td>1.000000</td>\n",
              "      <td>0.000000</td>\n",
              "      <td>1.000000</td>\n",
              "    </tr>\n",
              "    <tr>\n",
              "      <th>25%</th>\n",
              "      <td>33.000000</td>\n",
              "      <td>54.000000</td>\n",
              "      <td>8.000000</td>\n",
              "      <td>100.000000</td>\n",
              "      <td>1.000000</td>\n",
              "    </tr>\n",
              "    <tr>\n",
              "      <th>50%</th>\n",
              "      <td>39.000000</td>\n",
              "      <td>407.000000</td>\n",
              "      <td>17.000000</td>\n",
              "      <td>175.000000</td>\n",
              "      <td>2.000000</td>\n",
              "    </tr>\n",
              "    <tr>\n",
              "      <th>75%</th>\n",
              "      <td>48.000000</td>\n",
              "      <td>1319.000000</td>\n",
              "      <td>21.000000</td>\n",
              "      <td>313.000000</td>\n",
              "      <td>3.000000</td>\n",
              "    </tr>\n",
              "    <tr>\n",
              "      <th>max</th>\n",
              "      <td>95.000000</td>\n",
              "      <td>102127.000000</td>\n",
              "      <td>31.000000</td>\n",
              "      <td>4918.000000</td>\n",
              "      <td>63.000000</td>\n",
              "    </tr>\n",
              "  </tbody>\n",
              "</table>\n",
              "</div>"
            ],
            "text/plain": [
              "                age        balance           day      duration      campaign\n",
              "count  40000.000000   40000.000000  40000.000000  40000.000000  40000.000000\n",
              "mean      40.544600    1274.277550     16.017225    254.824300      2.882175\n",
              "std        9.641776    2903.769716      8.278127    259.366498      3.239051\n",
              "min       19.000000   -8019.000000      1.000000      0.000000      1.000000\n",
              "25%       33.000000      54.000000      8.000000    100.000000      1.000000\n",
              "50%       39.000000     407.000000     17.000000    175.000000      2.000000\n",
              "75%       48.000000    1319.000000     21.000000    313.000000      3.000000\n",
              "max       95.000000  102127.000000     31.000000   4918.000000     63.000000"
            ]
          },
          "metadata": {
            "tags": []
          },
          "execution_count": 4
        }
      ]
    },
    {
      "cell_type": "code",
      "metadata": {
        "id": "kfmvLjHMJCrO",
        "outputId": "1c564530-2623-488c-af92-c790ba3cde4c",
        "colab": {
          "base_uri": "https://localhost:8080/"
        }
      },
      "source": [
        "row_df.isnull().values.sum()"
      ],
      "execution_count": 5,
      "outputs": [
        {
          "output_type": "execute_result",
          "data": {
            "text/plain": [
              "0"
            ]
          },
          "metadata": {
            "tags": []
          },
          "execution_count": 5
        }
      ]
    },
    {
      "cell_type": "markdown",
      "metadata": {
        "id": "pYYCk2pZIPtr"
      },
      "source": [
        "There is no null values in the dataset, which is a relieve. As you can see, there are some preprocessing work and feature engineering need to be done before applying ML algorithms. \n",
        "There some unreasnably values, such as -8019 in the balance and 4918 in the duraion, which is kinda an outliers that we should get rid of.\n"
      ]
    },
    {
      "cell_type": "code",
      "metadata": {
        "id": "naIWVSZSgDCC",
        "outputId": "880a4165-b93f-49b7-f84e-89a0a4c2365d",
        "colab": {
          "base_uri": "https://localhost:8080/",
          "height": 405
        }
      },
      "source": [
        "fig, (ax1,ax2) = plt.subplots(1,2, figsize=(15,6))\n",
        "sns.boxplot(x='y', y='duration', data=row_df, hue='contact', ax=ax1)\n",
        "sns.histplot(row_df.duration, ax=ax2 )"
      ],
      "execution_count": 6,
      "outputs": [
        {
          "output_type": "execute_result",
          "data": {
            "text/plain": [
              "<matplotlib.axes._subplots.AxesSubplot at 0x7efdf630e668>"
            ]
          },
          "metadata": {
            "tags": []
          },
          "execution_count": 6
        },
        {
          "output_type": "display_data",
          "data": {
            "image/png": "[encoded data removed]",
            "text/plain": [
              "<Figure size 1080x432 with 2 Axes>"
            ]
          },
          "metadata": {
            "tags": [],
            "needs_background": "light"
          }
        }
      ]
    },
    {
      "cell_type": "code",
      "metadata": {
        "id": "3wCQT8ksiflP",
        "outputId": "13143c0e-282a-4646-b4de-989819f98db9",
        "colab": {
          "base_uri": "https://localhost:8080/",
          "height": 405
        }
      },
      "source": [
        "# dealing with outliers for duration variable \n",
        "\n",
        "Q1 = np.quantile(row_df['duration'], .25)\n",
        "Q3 = np.quantile(row_df['duration'], .75)\n",
        "IQR = Q3 -Q1\n",
        "rm_outliers_df = row_df[row_df['duration'].between(10, (Q3 + 1.5*IQR), inclusive=True)]\n",
        "\n",
        "fig, (ax1,ax2) = plt.subplots(1,2, figsize=(15,6))\n",
        "sns.boxplot(x='y', y='duration', data=rm_outliers_df, hue='contact', ax=ax1)\n",
        "sns.histplot(rm_outliers_df.duration, ax=ax2 )\n"
      ],
      "execution_count": 7,
      "outputs": [
        {
          "output_type": "execute_result",
          "data": {
            "text/plain": [
              "<matplotlib.axes._subplots.AxesSubplot at 0x7efdf463a470>"
            ]
          },
          "metadata": {
            "tags": []
          },
          "execution_count": 7
        },
        {
          "output_type": "display_data",
          "data": {
            "image/png": "[encoded data removed]",
            "text/plain": [
              "<Figure size 1080x432 with 2 Axes>"
            ]
          },
          "metadata": {
            "tags": [],
            "needs_background": "light"
          }
        }
      ]
    },
    {
      "cell_type": "code",
      "metadata": {
        "id": "jrYFG5bKoMjf",
        "outputId": "8648877e-7356-4fad-bfce-c1135763f50e",
        "colab": {
          "base_uri": "https://localhost:8080/",
          "height": 296
        }
      },
      "source": [
        "# outlier for the balance variable\n",
        "sns.boxplot(x='y', y='balance', data=row_df)"
      ],
      "execution_count": 8,
      "outputs": [
        {
          "output_type": "execute_result",
          "data": {
            "text/plain": [
              "<matplotlib.axes._subplots.AxesSubplot at 0x7efdf63a24e0>"
            ]
          },
          "metadata": {
            "tags": []
          },
          "execution_count": 8
        },
        {
          "output_type": "display_data",
          "data": {
            "image/png": "[encoded data removed]",
            "text/plain": [
              "<Figure size 432x288 with 1 Axes>"
            ]
          },
          "metadata": {
            "tags": [],
            "needs_background": "light"
          }
        }
      ]
    },
    {
      "cell_type": "code",
      "metadata": {
        "id": "FurRiT17sP7Q",
        "outputId": "1d87a089-aa8e-4d89-c0bf-5873e386fb62",
        "colab": {
          "base_uri": "https://localhost:8080/",
          "height": 296
        }
      },
      "source": [
        "Q1 = np.quantile(row_df['balance'], .25)\n",
        "Q3 = np.quantile(row_df['balance'], .75)\n",
        "IQR = Q3 -Q1\n",
        "rm_outliers_df = row_df[row_df['balance'].between(0, (Q3 + 1.5*IQR), inclusive=True)]\n",
        "\n",
        "sns.boxplot(x='y', y='balance', data=rm_outliers_df)"
      ],
      "execution_count": 9,
      "outputs": [
        {
          "output_type": "execute_result",
          "data": {
            "text/plain": [
              "<matplotlib.axes._subplots.AxesSubplot at 0x7efdf443e2e8>"
            ]
          },
          "metadata": {
            "tags": []
          },
          "execution_count": 9
        },
        {
          "output_type": "display_data",
          "data": {
            "image/png": "[encoded data removed]",
            "text/plain": [
              "<Figure size 432x288 with 1 Axes>"
            ]
          },
          "metadata": {
            "tags": [],
            "needs_background": "light"
          }
        }
      ]
    },
    {
      "cell_type": "code",
      "metadata": {
        "id": "qy6dIeUTxBNO",
        "outputId": "7cbb55ee-fadf-46c3-ae5d-c87d9c38b5d3",
        "colab": {
          "base_uri": "https://localhost:8080/"
        }
      },
      "source": [
        "# Campaign variable\n",
        "rm_outliers_df.campaign.where(row_df.y == 'yes').value_counts()"
      ],
      "execution_count": 10,
      "outputs": [
        {
          "output_type": "execute_result",
          "data": {
            "text/plain": [
              "1.0     994\n",
              "2.0     594\n",
              "3.0     272\n",
              "4.0     169\n",
              "5.0      83\n",
              "6.0      55\n",
              "7.0      24\n",
              "8.0      21\n",
              "9.0      12\n",
              "10.0     10\n",
              "11.0      9\n",
              "13.0      6\n",
              "17.0      5\n",
              "15.0      4\n",
              "12.0      3\n",
              "14.0      3\n",
              "16.0      2\n",
              "24.0      1\n",
              "32.0      1\n",
              "20.0      1\n",
              "29.0      1\n",
              "Name: campaign, dtype: int64"
            ]
          },
          "metadata": {
            "tags": []
          },
          "execution_count": 10
        }
      ]
    },
    {
      "cell_type": "markdown",
      "metadata": {
        "id": "-DHSjH741QRe"
      },
      "source": [
        "I cannot see any significant information we can get from the campaign variable, most likely people bought from one or two calls. Hence it will be deleted later, the same thing applies for day variable.\n",
        "\n",
        "I think we are set in terms of preprocessing the numerical variables. However, I have a gut feeling about the balance between yes and no in the dependent variable, I will check it now. \n"
      ]
    },
    {
      "cell_type": "code",
      "metadata": {
        "id": "-pbCGTJ062R5",
        "outputId": "195a9b9e-5f69-48d3-fd06-1bd358e0dff0",
        "colab": {
          "base_uri": "https://localhost:8080/",
          "height": 296
        }
      },
      "source": [
        "g = sns.countplot(x=rm_outliers_df.y) \n",
        "g.set_xticklabels(['No', 'Yes'])"
      ],
      "execution_count": 11,
      "outputs": [
        {
          "output_type": "execute_result",
          "data": {
            "text/plain": [
              "[Text(0, 0, 'No'), Text(0, 0, 'Yes')]"
            ]
          },
          "metadata": {
            "tags": []
          },
          "execution_count": 11
        },
        {
          "output_type": "display_data",
          "data": {
            "image/png": "[encoded data removed]",
            "text/plain": [
              "<Figure size 432x288 with 1 Axes>"
            ]
          },
          "metadata": {
            "tags": [],
            "needs_background": "light"
          }
        }
      ]
    },
    {
      "cell_type": "markdown",
      "metadata": {
        "id": "CRGUbKDI9nLL"
      },
      "source": [
        "Oops, as I expected the data is imbalanced. This is one of the major issues that data scientist fall into when dealing with unbalanced datasets relates to the metrics used to evaluate their model. Using simpler metrics like accuracy score can be misleading. In a dataset with highly unbalanced classes like this, the classifier will always “predicts” the most common class without performing any analysis of the features and it will have a high accuracy rate, obviously not the correct one.\n",
        "\n",
        "Collecting more data helps here but there is no such option. Therefore to overcome this problem , I will try to resample the dataset a)oversampling and b)undersamling. a) The simplest implementation of oversampling is to duplicate random records from the minority class, which can cause overfishing. b) the  undersampling, the simplest technique involves removing random records from the majority class, which can cause loss of information.\n",
        "\n",
        "Of courser there are different techniques such as Tomek links and NearMiss but I will use a simplified version of sampling approche."
      ]
    },
    {
      "cell_type": "markdown",
      "metadata": {
        "id": "05b3Urh0gTag"
      },
      "source": [
        "I will remove outliers then I will apply the undersampling approach. Look at the numeric variables"
      ]
    },
    {
      "cell_type": "code",
      "metadata": {
        "id": "2581lD2GFY44",
        "outputId": "0a05059a-0a5b-48a3-e866-1b93483df9b8",
        "colab": {
          "base_uri": "https://localhost:8080/"
        }
      },
      "source": [
        "# Random undersampling using imblearn\n",
        "# Imblearn is a libraries can help to implement such techniques\n",
        "under_sampling = RandomUnderSampler(random_state=55, replacement=True)\n",
        "x_under_sampling, y_under_sampling = under_sampling.fit_resample(rm_outliers_df, rm_outliers_df.y)\n",
        "\n",
        "print('original dataset shape:', Counter(rm_outliers_df.y))\n",
        "print('Resample dataset shape', Counter(y_under_sampling))"
      ],
      "execution_count": 12,
      "outputs": [
        {
          "output_type": "stream",
          "text": [
            "original dataset shape: Counter({'no': 29742, 'yes': 2270})\n",
            "Resample dataset shape Counter({'no': 2270, 'yes': 2270})\n"
          ],
          "name": "stdout"
        },
        {
          "output_type": "stream",
          "text": [
            "/usr/local/lib/python3.6/dist-packages/sklearn/utils/deprecation.py:87: FutureWarning: Function safe_indexing is deprecated; safe_indexing is deprecated in version 0.22 and will be removed in version 0.24.\n",
            "  warnings.warn(msg, category=FutureWarning)\n"
          ],
          "name": "stderr"
        }
      ]
    },
    {
      "cell_type": "code",
      "metadata": {
        "id": "i0aoxvq8tLqr",
        "outputId": "7e91140c-659b-4598-cc59-65a36bb4d27e",
        "colab": {
          "base_uri": "https://localhost:8080/"
        }
      },
      "source": [
        "# Recreate the new balanced dataframe\n",
        "balanced_df = pd.DataFrame(x_under_sampling, columns=row_df.columns).sample(frac=1).reset_index(drop=True)\n",
        "balanced_df[['age', 'balance', 'day', 'duration', 'campaign']] = balanced_df[['age', 'balance', 'day', 'duration', 'campaign']].apply(pd.to_numeric)\n",
        "balanced_df.info()"
      ],
      "execution_count": 13,
      "outputs": [
        {
          "output_type": "stream",
          "text": [
            "<class 'pandas.core.frame.DataFrame'>\n",
            "RangeIndex: 4540 entries, 0 to 4539\n",
            "Data columns (total 14 columns):\n",
            " #   Column     Non-Null Count  Dtype \n",
            "---  ------     --------------  ----- \n",
            " 0   age        4540 non-null   int64 \n",
            " 1   job        4540 non-null   object\n",
            " 2   marital    4540 non-null   object\n",
            " 3   education  4540 non-null   object\n",
            " 4   default    4540 non-null   object\n",
            " 5   balance    4540 non-null   int64 \n",
            " 6   housing    4540 non-null   object\n",
            " 7   loan       4540 non-null   object\n",
            " 8   contact    4540 non-null   object\n",
            " 9   day        4540 non-null   int64 \n",
            " 10  month      4540 non-null   object\n",
            " 11  duration   4540 non-null   int64 \n",
            " 12  campaign   4540 non-null   int64 \n",
            " 13  y          4540 non-null   object\n",
            "dtypes: int64(5), object(9)\n",
            "memory usage: 496.7+ KB\n"
          ],
          "name": "stdout"
        }
      ]
    },
    {
      "cell_type": "code",
      "metadata": {
        "id": "Itvt2znDLbQv",
        "outputId": "e9158c3c-f0a4-4989-a7c3-08f9a132c8b1",
        "colab": {
          "base_uri": "https://localhost:8080/",
          "height": 898
        }
      },
      "source": [
        "# Let's take a look at some categorical variables \n",
        "fig, ax = plt.subplots(3, 2, figsize=(15,15))\n",
        "sns.set_style(\"dark\")\n",
        "\n",
        "sns.countplot(x='y', hue=\"marital\", data=balanced_df, order=['no','yes'], ax=ax[0,0])\n",
        "sns.countplot(x='y', hue=\"job\", data=balanced_df, order=['no','yes'], ax=ax[0,1])\n",
        "sns.countplot(x='y', hue=\"education\", data=balanced_df, order=['no','yes'], ax=ax[1,0])\n",
        "sns.countplot(x='y', hue=\"default\", data=balanced_df, order=['no','yes'], ax=ax[1,1])\n",
        "sns.countplot(x='y', hue=\"housing\", data=balanced_df, order=['no','yes'], ax=ax[2,0])\n",
        "sns.countplot(x='y', hue=\"contact\", data=balanced_df, order=['no','yes'], ax=ax[2,1])"
      ],
      "execution_count": 14,
      "outputs": [
        {
          "output_type": "execute_result",
          "data": {
            "text/plain": [
              "<matplotlib.axes._subplots.AxesSubplot at 0x7efdf4194780>"
            ]
          },
          "metadata": {
            "tags": []
          },
          "execution_count": 14
        },
        {
          "output_type": "display_data",
          "data": {
            "image/png": "[encoded data removed]",
            "text/plain": [
              "<Figure size 1080x1080 with 6 Axes>"
            ]
          },
          "metadata": {
            "tags": [],
            "needs_background": "light"
          }
        }
      ]
    },
    {
      "cell_type": "markdown",
      "metadata": {
        "id": "HM2oavJYX9ck"
      },
      "source": [
        "There are not a lot of differences in features like default and education, however, interestingly in feature like marital we can motice that more singls are buying the product over the phone, and people who were contacted by phone are more likely to buy as well. "
      ]
    },
    {
      "cell_type": "code",
      "metadata": {
        "id": "X3cCz4we5Y_I",
        "outputId": "bf6d3963-4ad1-40cc-a0fa-9d5e8f9829d2",
        "colab": {
          "base_uri": "https://localhost:8080/"
        }
      },
      "source": [
        "tmp_df = balanced_df.loc[:,['month','y']]\n",
        "tmp_df['0_1'] =  tmp_df.y.map(dict(yes=1, no=0))\n",
        "tmp_df.groupby(by=['month'])['0_1'].sum().sort_values(ascending=False)"
      ],
      "execution_count": 15,
      "outputs": [
        {
          "output_type": "execute_result",
          "data": {
            "text/plain": [
              "month\n",
              "may    614\n",
              "apr    370\n",
              "jul    313\n",
              "aug    235\n",
              "jun    230\n",
              "feb    204\n",
              "nov    144\n",
              "mar     96\n",
              "jan     33\n",
              "oct     30\n",
              "dec      1\n",
              "Name: 0_1, dtype: int64"
            ]
          },
          "metadata": {
            "tags": []
          },
          "execution_count": 15
        }
      ]
    },
    {
      "cell_type": "markdown",
      "metadata": {
        "id": "Df7dR7gTRBgk"
      },
      "source": [
        "It looks like there is seasonality in the data. Especially in spring and summer there are more buyers for the prodcts, the months between (apr-aug). I will split the data here to 3 categories (septemper is missing). (feb-may)(jun-sep) and (oct-jan)"
      ]
    },
    {
      "cell_type": "code",
      "metadata": {
        "id": "nZU1rb6dS6tG"
      },
      "source": [
        "# Encode months to bucket them later in three seasons 'spring','summer', 'winter'\n",
        "balanced_df['encoded_month'] = balanced_df.month.map(dict(jan=12, feb=1, mar=2 , apr=3, may=4, jun=5, jul=6, aug=7, sep=8, oct=9, nov=10, dec=11))\n",
        "bins = [0,4,8,12]\n",
        "names = ['spring','summer', 'winter']\n",
        "balanced_df['season'] = pd.cut(balanced_df['encoded_month'], bins, labels=names)"
      ],
      "execution_count": 16,
      "outputs": []
    },
    {
      "cell_type": "code",
      "metadata": {
        "id": "W8merp7gp2C9"
      },
      "source": [
        "# Delete unwanted variables from the dataframe\n",
        "balanced_df.drop(['default','education', 'day', 'month', 'campaign', 'encoded_month'], axis=1, inplace=True)"
      ],
      "execution_count": 17,
      "outputs": []
    },
    {
      "cell_type": "code",
      "metadata": {
        "id": "gUi0nK2Nr7HN"
      },
      "source": [
        "# Create 5 folds for cross validation\n",
        "balanced_df['kfold'] = -1\n",
        "\n",
        "# Balanced_df = balanced_df.sample(frac = 1).reset_index(drop=True)\n",
        "kf = model_selection.StratifiedKFold(n_splits=5, shuffle=False)\n",
        "\n",
        "for fold, (train_idx, val_idx) in enumerate(kf.split(X= balanced_df, y= balanced_df.y.values)): \n",
        "  balanced_df.loc[val_idx, 'kfold']  = fold"
      ],
      "execution_count": 18,
      "outputs": []
    },
    {
      "cell_type": "code",
      "metadata": {
        "id": "6y9pq8saqzwe"
      },
      "source": [
        "# Create target variable y\n",
        "balanced_df['y'] = balanced_df.y.map(dict(yes=1, no=0))\n",
        "\n",
        "# One hot encoding for categorical variables\n",
        "df = pd.get_dummies(balanced_df)"
      ],
      "execution_count": 19,
      "outputs": []
    },
    {
      "cell_type": "code",
      "metadata": {
        "id": "KFtJ3ggOO4UV",
        "outputId": "7881b8ac-6cf5-4c77-db30-33ec77a83ebb",
        "colab": {
          "base_uri": "https://localhost:8080/",
          "height": 385
        }
      },
      "source": [
        "# Model training and inference\n",
        "\n",
        "fold_mapping = {\n",
        "  0: [1, 2, 3, 4],\n",
        "  1: [0, 2, 3, 4],\n",
        "  2: [0, 1, 3, 4],\n",
        "  3: [0, 1, 2, 4],\n",
        "  4: [0, 1, 2, 3],\n",
        "}\n",
        "\n",
        "avg_performance_score = 0.0\n",
        "avg_roc_auc = 0.0 \n",
        "\n",
        "for FOLD in range(5):\n",
        "  train_df = df[df.kfold.isin(fold_mapping.get(FOLD))]\n",
        "  valid_df = df[df.kfold == FOLD]\n",
        "  \n",
        "  y_train = train_df.y \n",
        "  x_train = train_df.drop(['y', 'kfold'], axis=1)\n",
        "\n",
        "  y_test = valid_df.y \n",
        "  x_test = valid_df.drop(['y', 'kfold'], axis=1) \n",
        "  \n",
        "  # Simple random forest classifier \n",
        "  random_forest = RandomForestClassifier(n_estimators=100,  bootstrap = True, max_features='sqrt')\n",
        "  random_forest.fit(x_train, y_train)\n",
        "  preds = random_forest.predict(x_test)\n",
        "  preds_proba = random_forest.predict_proba(x_test)[:,1]\n",
        "\n",
        "  # Use two metrics to evaluate the performance of each fold \n",
        "  acc = accuracy_score(y_test, preds)\n",
        "  avg_performance_score += acc\n",
        "\n",
        "  ruc = roc_auc_score(y_test, preds_proba)\n",
        "  avg_roc_auc += ruc\n",
        "\n",
        "avg_performance_score /= 5.0\n",
        "avg_roc_auc /= 5.0\n",
        "\n",
        "print(f'Average performance score in Accuracy metrics is {avg_performance_score:0.2f} \\nThe avg. of AUC score is {avg_roc_auc} ')\n",
        "\n",
        "# Plot the ROC curve \n",
        "fpr = dict()\n",
        "tpr = dict()\n",
        "roc_auc = dict()\n",
        "for i in range(2):\n",
        "    fpr[i], tpr[i], _ = roc_curve(y_test, preds_proba)\n",
        "    roc_auc[i] = auc(fpr[i], tpr[i])\n",
        "\n",
        "# Compute micro-average ROC curve and ROC area\n",
        "fpr[\"micro\"], tpr[\"micro\"], _ = roc_curve(y_test.ravel(), preds.ravel())\n",
        "roc_auc[\"micro\"] = auc(fpr[\"micro\"], tpr[\"micro\"])\n",
        "\n",
        "plt.figure(figsize=(7,5))\n",
        "lw = 2\n",
        "plt.plot(fpr[1], tpr[1], color='darkorange',\n",
        "         lw=lw, label='ROC curve (area = %0.2f)' % roc_auc[1])\n",
        "plt.plot([0, 1], [0, 1], color='navy', lw=lw, linestyle='--')\n",
        "plt.xlim([0.0, 1.0])\n",
        "plt.ylim([0.0, 1.05])\n",
        "plt.xlabel('False Positive Rate')\n",
        "plt.ylabel('True Positive Rate')\n",
        "plt.title('Receiver operating characteristic')\n",
        "plt.legend(loc=\"lower right\")\n",
        "plt.show()"
      ],
      "execution_count": 20,
      "outputs": [
        {
          "output_type": "stream",
          "text": [
            "Average performance score in Accuracy metrics is 0.85 \n",
            "The avg. of AUC score is 0.9165625181936387 \n"
          ],
          "name": "stdout"
        },
        {
          "output_type": "display_data",
          "data": {
            "image/png": "[encoded data removed]",
            "text/plain": [
              "<Figure size 504x360 with 1 Axes>"
            ]
          },
          "metadata": {
            "tags": []
          }
        }
      ]
    },
    {
      "cell_type": "markdown",
      "metadata": {
        "id": "Pz0ATEejXdd_"
      },
      "source": [
        "## Bonus(es):\n",
        "a) A photo of a tree to show the client how the tree makes decision\n",
        "\n",
        "b) Importance of the varibales "
      ]
    },
    {
      "cell_type": "code",
      "metadata": {
        "id": "vIYN1edsOvpi"
      },
      "source": [
        "# Feature list from the df\n",
        "feature_list = list(df.drop(['y','kfold'], axis=1).columns)\n",
        "tree_no = 3 \n",
        "\n",
        "# Pull out one tree from the forest, export the image to a dot file to make graph \n",
        "tree = random_forest.estimators_[tree_no]\n",
        "export_graphviz(tree, out_file='tree.dot', feature_names=feature_list, rounded=True, precision=1)\n",
        "(graph, ) = pydot.graph_from_dot_file('tree.dot')\n",
        "graph.write_png(f'rf_tree_{tree_no}.png')"
      ],
      "execution_count": 21,
      "outputs": []
    },
    {
      "cell_type": "code",
      "metadata": {
        "id": "4lvvwsEWUdkW",
        "outputId": "8704d09d-fbaa-4d7c-8a56-ef2faa3fc544",
        "colab": {
          "base_uri": "https://localhost:8080/"
        }
      },
      "source": [
        "# Feature importances\n",
        "importances = list(random_forest.feature_importances_)\n",
        "feature_importances = [(feature, round(importance, 2)) for feature, importance in zip(feature_list, importances)]\n",
        "feature_importances = sorted(feature_importances, key = lambda x: x[1], reverse = True)\n",
        "[print('Variable: {:20} Importance: {}'.format(*pair)) for pair in feature_importances];"
      ],
      "execution_count": 22,
      "outputs": [
        {
          "output_type": "stream",
          "text": [
            "Variable: duration             Importance: 0.52\n",
            "Variable: balance              Importance: 0.12\n",
            "Variable: age                  Importance: 0.1\n",
            "Variable: season_spring        Importance: 0.03\n",
            "Variable: housing_no           Importance: 0.02\n",
            "Variable: housing_yes          Importance: 0.02\n",
            "Variable: contact_cellular     Importance: 0.02\n",
            "Variable: contact_unknown      Importance: 0.02\n",
            "Variable: season_summer        Importance: 0.02\n",
            "Variable: job_admin            Importance: 0.01\n",
            "Variable: job_blue-collar      Importance: 0.01\n",
            "Variable: job_management       Importance: 0.01\n",
            "Variable: job_self-employed    Importance: 0.01\n",
            "Variable: job_services         Importance: 0.01\n",
            "Variable: job_technician       Importance: 0.01\n",
            "Variable: job_unemployed       Importance: 0.01\n",
            "Variable: marital_divorced     Importance: 0.01\n",
            "Variable: marital_married      Importance: 0.01\n",
            "Variable: marital_single       Importance: 0.01\n",
            "Variable: loan_no              Importance: 0.01\n",
            "Variable: loan_yes             Importance: 0.01\n",
            "Variable: contact_telephone    Importance: 0.01\n",
            "Variable: season_winter        Importance: 0.01\n",
            "Variable: job_entrepreneur     Importance: 0.0\n",
            "Variable: job_housemaid        Importance: 0.0\n",
            "Variable: job_retired          Importance: 0.0\n",
            "Variable: job_student          Importance: 0.0\n",
            "Variable: job_unknown          Importance: 0.0\n"
          ],
          "name": "stdout"
        }
      ]
    },
    {
      "cell_type": "markdown",
      "metadata": {
        "id": "17V3GnwUVHzL"
      },
      "source": [
        "At the top of the list is duration, the duration spent with customers looks important. This tells us the best predictor of success  is the duratoin, a rather intuitive finding. The second most important factor is the balance, also not that surprising. Then in the importance queue we have got age, contact and season. Occupation turns out to not be very helpful, along with the housing, marital status. These importances all make sense as we would not expect marital status to be a predictor of likelihood of a customer to buy or not. \n",
        "\n",
        "The model can be improved and those less important variables can be removed and hence the performance will not suffer. Additionally, if we are using a different model, say a support vector machine, we could use the random forest feature importances as a kind of feature selection method."
      ]
    }
  ]
}